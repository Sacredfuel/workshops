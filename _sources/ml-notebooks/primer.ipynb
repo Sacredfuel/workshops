{
  "cells": [
    {
      "cell_type": "markdown",
      "metadata": {
        "id": "PUu4ZP0Kyobu"
      },
      "source": [
        "# Introduction to PyTorch"
      ]
    },
    {
      "cell_type": "markdown",
      "metadata": {
        "id": "2xEm4YtIyob0"
      },
      "source": [
        "## Introduction\n",
        "\n",
        "In this section we will cover the following topics:\n",
        "\n",
        "- What is a deep learning, and when do we use it.\n",
        "- What is a tensor, and how can we represent data with them.\n",
        "- How can we transform a tensor to fit our needs."
      ]
    },
    {
      "cell_type": "code",
      "execution_count": 69,
      "metadata": {
        "id": "1lK_K_hMyob1"
      },
      "outputs": [],
      "source": [
        "import torch\n",
        "import torchvision\n",
        "import matplotlib.pyplot as plt\n",
        "import numpy as np\n",
        "from torchvision import transforms\n",
        "np.random.seed(42)  # for reproducibility"
      ]
    },
    {
      "cell_type": "markdown",
      "metadata": {
        "id": "FRr-4yLQyob4"
      },
      "source": [
        "### What is Deep Learning\n",
        "\n",
        "- Machine learning is turning things (data) into numbers and finding patterns in those numbers.\n",
        "- Deep learning is a subset of machine learning using neural networks to analyze complex relationships in the data.\n",
        "- Models can learn patterns through it's\n",
        "- Deep learning requires extensive amounts of data before it can be useful"
      ]
    },
    {
      "cell_type": "markdown",
      "metadata": {
        "id": "sTSTrV2Dyob5"
      },
      "source": [
        "### What deep learning is good for\n",
        "\n",
        "- Problems with long lists of rules— when the traditional approach fails, machine learning/deep learning may help.\n",
        "\n",
        "- Continually changing environments— deep learning can adapt ('learn') to new scenarios.\n",
        "\n",
        "- Discovering insights within large collections of data— when the dataset is too big, it might be better to use a deep learning model instead of observing the entire data."
      ]
    },
    {
      "cell_type": "markdown",
      "metadata": {
        "id": "1-dttTuHyob6"
      },
      "source": [
        "### What deep learning is (typically) not good for\n",
        "\n",
        "- “If you can build a simple rule-based system that doesn’t require machine learning, do that.\" - [Rules of Machine Learning](https://developers.google.com/machine-learning/guides/rules-of-ml/)\n",
        "\n",
        "- When you need explainability- the patterns learned by a deep learning model are typically uninterpretable by a human.\n",
        "\n",
        "- When errors are unacceptable— since the outputs of deep learning model aren’t always predictable.\n",
        "\n",
        "- When you don’t have much data— deep learning models usually require a fairly large amount of data to produce great results."
      ]
    },
    {
      "cell_type": "markdown",
      "metadata": {
        "id": "_qdJGsK-yob7"
      },
      "source": [
        "### What is a neural network"
      ]
    },
    {
      "cell_type": "markdown",
      "metadata": {
        "id": "dw0UED9Vyob7"
      },
      "source": [
        "- A neural network takes in numerical values (often times in the form of a tensor)\n",
        "\n",
        "- It learns the representation (adjusts weights/learn features/patterns)\n",
        "\n",
        "- Produces an output tensor that is Human Interpretable"
      ]
    },
    {
      "cell_type": "markdown",
      "metadata": {
        "id": "0BhDuwcHyob8"
      },
      "source": [
        "![NeuralNetworkDemo](media/neural_net.gif)"
      ]
    },
    {
      "cell_type": "markdown",
      "metadata": {
        "id": "DUfkym-Eyob9"
      },
      "source": [
        "### What is PyTorch\n",
        "\n",
        "- Most [popular](https://thegradient.pub/state-of-ml-frameworks-2019-pytorch-dominates-research-tensorflow-dominates-industry/) research deep learning framework\n",
        "\n",
        "- Write fast deep learning code in Python (able to run natively on many GPUs)\n",
        "\n",
        "- Able to access many pre-built deep learning models TorchHub/[torchvision.models](https://docs.pytorch.org/vision/stable/models.html)"
      ]
    },
    {
      "cell_type": "markdown",
      "metadata": {
        "id": "xPeRDFkryob9"
      },
      "source": [
        "### What is a Tensor"
      ]
    },
    {
      "cell_type": "markdown",
      "metadata": {
        "id": "rpOcVlSxyob_"
      },
      "source": [
        "A Tensor is the basic building block. Similar to NumPy’s ndarrays, with the addition being that Tensors can also be used on a GPU."
      ]
    },
    {
      "cell_type": "code",
      "execution_count": 70,
      "metadata": {
        "id": "VDXP3_lHyob_"
      },
      "outputs": [],
      "source": [
        "x = torch.tensor([5.0, 3, 6.6, 1])"
      ]
    },
    {
      "cell_type": "markdown",
      "metadata": {
        "id": "GA5di94wyocA"
      },
      "source": [
        "- They have NumPy-like behaviour for array operations - not a regular Python list."
      ]
    },
    {
      "cell_type": "code",
      "execution_count": 71,
      "metadata": {
        "colab": {
          "base_uri": "https://localhost:8080/"
        },
        "id": "DMo3DfYTy2E3",
        "outputId": "2806acea-4f01-4055-97ae-4edcd682a056"
      },
      "outputs": [
        {
          "data": {
            "text/plain": [
              "tensor([6.0000, 4.0000, 7.6000, 2.0000])"
            ]
          },
          "execution_count": 71,
          "metadata": {},
          "output_type": "execute_result"
        }
      ],
      "source": [
        "x + 1"
      ]
    },
    {
      "cell_type": "markdown",
      "metadata": {
        "id": "xEtV1Sgey6MQ"
      },
      "source": [
        "- *PyTorch* tensors can be on your CPU or GPU. You can explicitly copy it back and forth.  We will look into this more later."
      ]
    },
    {
      "cell_type": "markdown",
      "metadata": {
        "id": "lvoQnlv7zMPl"
      },
      "source": [
        "### Gradients\n",
        "\n",
        "- PyTorch tensors are more powerful than NumPy ndarrays when we are interested in propagating gradients.\n",
        "\n",
        "- Neural networks are trained via two operations:\n",
        "\n",
        "  - a forward pass\n",
        "\n",
        "  - a backward pass\n",
        "\n",
        "- Both the gradient, and forward and backward pass functions are attached to PyTorch's Tensor object."
      ]
    },
    {
      "cell_type": "markdown",
      "metadata": {
        "id": "VVDu763qzloT"
      },
      "source": [
        "Setting **require_grad=True** makes PyTorch track all the operations on that Tensor. When you finish the computation, you can call .backward() on it and the gradients are stored in the **.grad** attribute."
      ]
    },
    {
      "cell_type": "code",
      "execution_count": 72,
      "metadata": {
        "colab": {
          "base_uri": "https://localhost:8080/"
        },
        "id": "BuhJ1mc9y3eM",
        "outputId": "46128ad7-692a-4053-d64e-2544de6a4d43"
      },
      "outputs": [
        {
          "data": {
            "text/plain": [
              "tensor([4., 5., 6.], requires_grad=True)"
            ]
          },
          "execution_count": 72,
          "metadata": {},
          "output_type": "execute_result"
        }
      ],
      "source": [
        "x = torch.tensor([4.0, 5.0, 6.0], requires_grad=True)\n",
        "x"
      ]
    },
    {
      "cell_type": "code",
      "execution_count": 73,
      "metadata": {
        "id": "jH_8qM7czoGI"
      },
      "outputs": [],
      "source": [
        "x = x + 4"
      ]
    },
    {
      "cell_type": "code",
      "execution_count": 74,
      "metadata": {
        "colab": {
          "base_uri": "https://localhost:8080/"
        },
        "id": "aQx3-PDsztq2",
        "outputId": "e4af406f-7379-4ff4-e4e3-b323670c93e8"
      },
      "outputs": [
        {
          "data": {
            "text/plain": [
              "tensor([ 8.,  9., 10.], grad_fn=<AddBackward0>)"
            ]
          },
          "execution_count": 74,
          "metadata": {},
          "output_type": "execute_result"
        }
      ],
      "source": [
        "x"
      ]
    },
    {
      "cell_type": "markdown",
      "metadata": {
        "id": "TNnWO-J90PcT"
      },
      "source": [
        "If you don't want to track gradients, you can put code inside a **with torch.no_grad()** block. This saves memory."
      ]
    },
    {
      "cell_type": "code",
      "execution_count": 75,
      "metadata": {
        "id": "sftXn2wBzuAO"
      },
      "outputs": [],
      "source": [
        "with torch.no_grad():\n",
        "    x = x * 2"
      ]
    },
    {
      "cell_type": "code",
      "execution_count": 76,
      "metadata": {
        "colab": {
          "base_uri": "https://localhost:8080/"
        },
        "id": "1zlImPTE0SIl",
        "outputId": "542f0770-2c8e-44e5-da8f-0f8d78bb11e2"
      },
      "outputs": [
        {
          "data": {
            "text/plain": [
              "tensor([16., 18., 20.])"
            ]
          },
          "execution_count": 76,
          "metadata": {},
          "output_type": "execute_result"
        }
      ],
      "source": [
        "x"
      ]
    },
    {
      "cell_type": "markdown",
      "metadata": {
        "id": "Kz431jMG1Jms"
      },
      "source": [
        "## Datasets\n",
        "\n",
        "- We will only cover this briefly, as this code will be provided for you. It is helpful to know generally how it works.\n",
        "\n",
        "- **Transforms** are common image transformations which can be chained together using Compose().\n",
        "\n",
        "- List of common [transforms](https://docs.pytorch.org/vision/0.11/transforms.html)"
      ]
    },
    {
      "cell_type": "code",
      "execution_count": 77,
      "metadata": {
        "id": "6OVKIxb11b--"
      },
      "outputs": [],
      "source": [
        "transform = transforms.Compose([\n",
        "    transforms.ToTensor(),\n",
        "    transforms.Normalize((0.5,), (0.5,))\n",
        "])"
      ]
    },
    {
      "cell_type": "markdown",
      "metadata": {
        "id": "XSP1liUa1usP"
      },
      "source": [
        "- Certain commonly-used public datasets are available directly via PyTorch, through **torchvision.datasets**.\n",
        "\n",
        "- Listing of all available datasets here: https://pytorch.org/docs/stable/torchvision/datasets.html"
      ]
    },
    {
      "cell_type": "code",
      "execution_count": 78,
      "metadata": {
        "id": "DA-bFyu_1sCH"
      },
      "outputs": [],
      "source": [
        "train_set = torchvision.datasets.MNIST(\n",
        "    root='./data',\n",
        "    train=True,\n",
        "    download=True,\n",
        "    transform=transform\n",
        ")\n",
        "\n",
        "test_set = torchvision.datasets.MNIST(\n",
        "    root='./data',\n",
        "    train=False,\n",
        "    download=True,\n",
        "    transform=transform\n",
        ")"
      ]
    },
    {
      "cell_type": "markdown",
      "metadata": {
        "id": "6B5OYl6c2Pn2"
      },
      "source": [
        "Data loaders are provided by **torch.utils.data** and help for easy iteration over datasets.\n",
        "\n",
        "https://pytorch.org/tutorials/beginner/data_loading_tutorial.html"
      ]
    },
    {
      "cell_type": "code",
      "execution_count": 79,
      "metadata": {
        "id": "bFa86S9T2DqI"
      },
      "outputs": [],
      "source": [
        "train_loader = torch.utils.data.DataLoader(\n",
        "    train_set,\n",
        "    batch_size=16,\n",
        "    shuffle=True,\n",
        "    num_workers=2\n",
        ")\n",
        "\n",
        "\n",
        "test_loader = torch.utils.data.DataLoader(\n",
        "    test_set,\n",
        "    batch_size=24, # Forward pass only so batch size can be larger\n",
        "    shuffle=False,\n",
        "    num_workers=2\n",
        ")\n",
        "\n",
        "classes = np.arange(0, 10)"
      ]
    },
    {
      "cell_type": "markdown",
      "metadata": {
        "id": "GEnhUClj2V15"
      },
      "source": [
        "To iterate over the test set, one batch at a time, we do the following:"
      ]
    },
    {
      "cell_type": "code",
      "execution_count": 80,
      "metadata": {
        "colab": {
          "base_uri": "https://localhost:8080/"
        },
        "id": "zQIdKFX52Thx",
        "outputId": "d3e64f97-bbd6-498b-87b1-5a9ff4c95149"
      },
      "outputs": [
        {
          "name": "stdout",
          "output_type": "stream",
          "text": [
            "Batch 0 size: 24\n"
          ]
        }
      ],
      "source": [
        "# 24 images at a time\n",
        "for i, data in enumerate(test_loader, 0):\n",
        "    images, labels = data\n",
        "    print(\"Batch\", i, \"size:\", len(images))\n",
        "\n",
        "    break # Do something"
      ]
    },
    {
      "cell_type": "markdown",
      "metadata": {
        "id": "L9kB5N8e2fsK"
      },
      "source": [
        "Note that the length of a loader is the *number of batches*, not the total number of images."
      ]
    },
    {
      "cell_type": "code",
      "execution_count": 81,
      "metadata": {
        "colab": {
          "base_uri": "https://localhost:8080/"
        },
        "id": "h0-9KWgq2X59",
        "outputId": "74b795f3-f9d2-4cef-8629-3723d7397926"
      },
      "outputs": [
        {
          "data": {
            "text/plain": [
              "417"
            ]
          },
          "execution_count": 81,
          "metadata": {},
          "output_type": "execute_result"
        }
      ],
      "source": [
        "len(test_loader)"
      ]
    },
    {
      "cell_type": "markdown",
      "metadata": {
        "id": "eaf9ssFE2nFt"
      },
      "source": [
        "If you want to look at the images in the set one by one, you can define a loader with batch_size of 1 and iterate over it using an iterator."
      ]
    },
    {
      "cell_type": "code",
      "execution_count": 82,
      "metadata": {
        "id": "R3oILh5G2hVw"
      },
      "outputs": [],
      "source": [
        "visual_loader = torch.utils.data.DataLoader(\n",
        "    test_set,\n",
        "    batch_size=1,\n",
        "    shuffle=False,\n",
        ")\n",
        "\n",
        "iterator = iter(visual_loader)"
      ]
    },
    {
      "cell_type": "code",
      "execution_count": 83,
      "metadata": {
        "colab": {
          "base_uri": "https://localhost:8080/",
          "height": 447
        },
        "id": "hINgGXkL2tvs",
        "outputId": "426742d6-70f9-46d7-9242-8ed0fb656a67"
      },
      "outputs": [
        {
          "name": "stdout",
          "output_type": "stream",
          "text": [
            "tensor([7])\n"
          ]
        },
        {
          "data": {
            "image/png": "[encoded data removed]",
            "text/plain": [
              "<Figure size 640x480 with 1 Axes>"
            ]
          },
          "metadata": {},
          "output_type": "display_data"
        }
      ],
      "source": [
        "image, label = next(iterator)\n",
        "plt.imshow(image.flatten().reshape(28, 28), cmap='gray')\n",
        "print(label)"
      ]
    },
    {
      "cell_type": "code",
      "execution_count": 84,
      "metadata": {
        "colab": {
          "base_uri": "https://localhost:8080/",
          "height": 447
        },
        "id": "S3TWFGh52yNo",
        "outputId": "cae92eaa-0451-4e1f-d540-eae509c63fe9"
      },
      "outputs": [
        {
          "name": "stdout",
          "output_type": "stream",
          "text": [
            "tensor([2])\n"
          ]
        },
        {
          "data": {
            "image/png": "[encoded data removed]",
            "text/plain": [
              "<Figure size 640x480 with 1 Axes>"
            ]
          },
          "metadata": {},
          "output_type": "display_data"
        }
      ],
      "source": [
        "image, label = next(iterator)\n",
        "plt.imshow(image.flatten().reshape(28, 28), cmap='gray')\n",
        "print(label)"
      ]
    },
    {
      "cell_type": "markdown",
      "metadata": {
        "id": "atOLnJ_a4Hlq"
      },
      "source": [
        "### Exercise:\n",
        "\n",
        "1. Create two tensor that holds 5 values with `requires_grad=True`. Multiply them together and check what the `grad_fn` is.\n",
        "\n",
        "2. Using the `visual_loader`, display a handwritten `4`."
      ]
    }
  ],
  "metadata": {
    "colab": {
      "provenance": []
    },
    "kernelspec": {
      "display_name": "book",
      "language": "python",
      "name": "python3"
    },
    "language_info": {
      "name": "python",
      "version": "3.13.1"
    }
  },
  "nbformat": 4,
  "nbformat_minor": 0
}
