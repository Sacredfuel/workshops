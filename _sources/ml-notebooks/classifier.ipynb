{
  "cells": [
    {
      "cell_type": "markdown",
      "metadata": {
        "id": "PUu4ZP0Kyobu"
      },
      "source": [
        "# Neural Networks"
      ]
    },
    {
      "cell_type": "markdown",
      "metadata": {
        "id": "2xEm4YtIyob0"
      },
      "source": [
        "## Building the model\n",
        "\n",
        "In this section we will cover the following topics:\n",
        "\n",
        "- Building a simple classifier.\n",
        "- Training a model, and the training loop.\n",
        "- Saving the model.\n",
        "- Evaluation metrics."
      ]
    },
    {
      "cell_type": "code",
      "execution_count": 107,
      "metadata": {
        "colab": {
          "base_uri": "https://localhost:8080/"
        },
        "id": "1lK_K_hMyob1",
        "outputId": "e4487a11-be0d-4140-d67c-c8538e756f56"
      },
      "outputs": [
        {
          "data": {
            "text/plain": [
              "<torch._C.Generator at 0x7989965dfe70>"
            ]
          },
          "execution_count": 107,
          "metadata": {},
          "output_type": "execute_result"
        }
      ],
      "source": [
        "import timeit\n",
        "import torch\n",
        "import torch.nn as nn\n",
        "import numpy as np\n",
        "import torchvision\n",
        "from torchvision import transforms\n",
        "from sklearn.metrics import confusion_matrix\n",
        "import matplotlib.pyplot as plt\n",
        "np.random.seed(42)  # for reproducibility\n",
        "torch.manual_seed(42)"
      ]
    },
    {
      "cell_type": "code",
      "execution_count": 108,
      "metadata": {
        "id": "av7z_fqPDADh",
        "tags": [
          "hide-input"
        ]
      },
      "outputs": [],
      "source": [
        "transform = transforms.Compose([\n",
        "    transforms.ToTensor(),\n",
        "    transforms.Normalize((0.5,), (0.5,))\n",
        "])\n",
        "\n",
        "train_set = torchvision.datasets.MNIST(\n",
        "    root='./data',\n",
        "    train=True,\n",
        "    download=True,\n",
        "    transform=transform\n",
        ")\n",
        "\n",
        "test_set = torchvision.datasets.MNIST(\n",
        "    root='./data',\n",
        "    train=False,\n",
        "    download=True,\n",
        "    transform=transform\n",
        ")\n",
        "\n",
        "train_loader = torch.utils.data.DataLoader(\n",
        "    train_set,\n",
        "    batch_size=16,\n",
        "    shuffle=True,\n",
        "    num_workers=2\n",
        ")\n",
        "\n",
        "\n",
        "test_loader = torch.utils.data.DataLoader(\n",
        "    test_set,\n",
        "    batch_size=24,\n",
        "    shuffle=False,\n",
        "    num_workers=2\n",
        ")\n",
        "\n",
        "classes = np.arange(0, 10)"
      ]
    },
    {
      "cell_type": "markdown",
      "metadata": {
        "id": "R8UNql5T9N84"
      },
      "source": [
        "- To build a simple Neural Network, there are two steps:\n",
        "\n",
        "  1. Define the network.\n",
        "  2. Specify a loss function and optimizer.\n",
        "\n",
        "- First, we recommend defining the network as a class. The **nn** or Neural Network part of PyTorch contains all the classes and functions related to defining a neural network."
      ]
    },
    {
      "cell_type": "markdown",
      "metadata": {
        "id": "383CUGor9aOV"
      },
      "source": [
        "- Let's build a simple linear classifier.\n",
        "\n",
        "- All networks should inherit from the **nn.Module** parent class: https://pytorch.org/docs/stable/nn.html#module\n",
        "\n",
        "- **nn.Module** stores learnable weights and state.\n",
        "\n",
        "- You will always need two functions:\n",
        "\n",
        "  1. __init__, which will be called the moment you instantiate the class.\n",
        "  2. **forward()** function which will be called during training.\n",
        "\n",
        "- The documentation for all the nn.Module layers supported by PyTorch is [here](https://pytorch.org/docs/stable/nn.html)"
      ]
    },
    {
      "cell_type": "code",
      "execution_count": 89,
      "metadata": {
        "id": "iRKyII-C9VdO"
      },
      "outputs": [],
      "source": [
        "class LinearClassifier(nn.Module):\n",
        "\n",
        "    def __init__(self, num_classes=10):\n",
        "        # Calls __init__() on the parent class, which is nn.Module\n",
        "        super(LinearClassifier, self).__init__()\n",
        "\n",
        "        # Define each layer of the network as a class variable\n",
        "        # fc1 stands for first fully-connected layer\n",
        "        self.fc1 = nn.Linear(28 * 28, num_classes)\n",
        "\n",
        "    def forward(self, x):\n",
        "        out = x.reshape(x.size(0), -1)\n",
        "        out = self.fc1(out)\n",
        "        return out"
      ]
    },
    {
      "cell_type": "markdown",
      "metadata": {
        "id": "GuT_Bd0Z99_-"
      },
      "source": [
        "- We can now create a classifier instance."
      ]
    },
    {
      "cell_type": "code",
      "execution_count": 90,
      "metadata": {
        "colab": {
          "base_uri": "https://localhost:8080/"
        },
        "id": "A3suTijB9zXp",
        "outputId": "b12c41da-72c5-4a5a-964a-89647c940622"
      },
      "outputs": [
        {
          "data": {
            "text/plain": [
              "LinearClassifier(\n",
              "  (fc1): Linear(in_features=784, out_features=10, bias=True)\n",
              ")"
            ]
          },
          "execution_count": 90,
          "metadata": {},
          "output_type": "execute_result"
        }
      ],
      "source": [
        "model = LinearClassifier()\n",
        "model"
      ]
    },
    {
      "cell_type": "markdown",
      "metadata": {
        "id": "KkH8Jo9D-Rtt"
      },
      "source": [
        "The layers can be accessed directly and so can their parameters!"
      ]
    },
    {
      "cell_type": "code",
      "execution_count": 91,
      "metadata": {
        "colab": {
          "base_uri": "https://localhost:8080/"
        },
        "id": "LjyAcLOt-AAk",
        "outputId": "01485809-3151-4c3b-b790-b0fe7d3f4f03"
      },
      "outputs": [
        {
          "data": {
            "text/plain": [
              "Linear(in_features=784, out_features=10, bias=True)"
            ]
          },
          "execution_count": 91,
          "metadata": {},
          "output_type": "execute_result"
        }
      ],
      "source": [
        "model.fc1"
      ]
    },
    {
      "cell_type": "code",
      "execution_count": 92,
      "metadata": {
        "colab": {
          "base_uri": "https://localhost:8080/"
        },
        "id": "vOfsS7zj-TKu",
        "outputId": "b55a5fb1-9788-4fa6-d03f-e571b10e27c6"
      },
      "outputs": [
        {
          "data": {
            "text/plain": [
              "Parameter containing:\n",
              "tensor([[ 0.0273,  0.0296, -0.0084,  ..., -0.0142,  0.0093,  0.0135],\n",
              "        [-0.0188, -0.0354,  0.0187,  ..., -0.0106, -0.0001,  0.0115],\n",
              "        [-0.0008,  0.0017,  0.0045,  ..., -0.0127, -0.0188,  0.0059],\n",
              "        ...,\n",
              "        [-0.0116,  0.0273, -0.0344,  ...,  0.0176,  0.0283, -0.0011],\n",
              "        [-0.0230,  0.0257,  0.0291,  ..., -0.0187, -0.0087,  0.0001],\n",
              "        [ 0.0176, -0.0147,  0.0053,  ..., -0.0336, -0.0221,  0.0205]],\n",
              "       requires_grad=True)"
            ]
          },
          "execution_count": 92,
          "metadata": {},
          "output_type": "execute_result"
        }
      ],
      "source": [
        "model.fc1.weight"
      ]
    },
    {
      "cell_type": "markdown",
      "metadata": {
        "id": "LndZpZpS-XhT"
      },
      "source": [
        "Now define the loss and optimiser.\n",
        "\n",
        "\n",
        "- Optimisers https://pytorch.org/docs/stable/optim.html\n",
        "- Loss functions https://pytorch.org/docs/stable/nn.html#loss-functions"
      ]
    },
    {
      "cell_type": "code",
      "execution_count": 93,
      "metadata": {
        "id": "aWnOm9s0-Vrr"
      },
      "outputs": [],
      "source": [
        "criterion = nn.CrossEntropyLoss()\n",
        "\n",
        "# Stochastic gradient descent\n",
        "optimizer = torch.optim.SGD(model.parameters(), lr=0.001, momentum=0.9)"
      ]
    },
    {
      "cell_type": "markdown",
      "metadata": {
        "id": "Lb_q7TaA-owO"
      },
      "source": [
        "Our optimizer acts to minimize our choice of loss function. The loss function quantifies how well the model is doing, and is often called the error function (in statistics) or the cost function (in economics)."
      ]
    },
    {
      "cell_type": "markdown",
      "metadata": {
        "id": "nzOjtANJA7nV"
      },
      "source": [
        "![SGD](sgd.gif)"
      ]
    },
    {
      "cell_type": "markdown",
      "metadata": {
        "id": "OEccjAG1BAfg"
      },
      "source": [
        "## Training"
      ]
    },
    {
      "cell_type": "markdown",
      "metadata": {
        "id": "EcoEBThCBNkQ"
      },
      "source": [
        "During training, we iterate over a fixed number of epochs. An epoch is *one complete iteration through the entire training set.*\n",
        "\n",
        "You can either fix the number of epochs to train for, or can dynamically determine when to stop training. Alternately, you can checkpoint frequently over a large fixed number of epochs and then determine the best model later."
      ]
    },
    {
      "cell_type": "code",
      "execution_count": 95,
      "metadata": {
        "id": "0B0_FcLWA6yU"
      },
      "outputs": [],
      "source": [
        "def train_model_epochs(num_epochs):\n",
        "    \"\"\" Trains the model for a given number of epochs on the training set. \"\"\"\n",
        "    for epoch in range(num_epochs):\n",
        "\n",
        "        running_loss = 0.0\n",
        "        for i, data in enumerate(train_loader, 0):\n",
        "            images, labels = data\n",
        "\n",
        "            # Zero the parameter gradients means to reset them from\n",
        "            # any previous values. By default, gradients accumulate!\n",
        "            optimizer.zero_grad()\n",
        "\n",
        "            # Passing inputs to the model calls the forward() function of\n",
        "            # the Module class, and the outputs value contains the return value\n",
        "            # of forward()\n",
        "            outputs = model(images)\n",
        "\n",
        "            # Compute the loss based on the true labels\n",
        "            loss = criterion(outputs, labels)\n",
        "\n",
        "            # Backpropagate the error with respect to the loss\n",
        "            loss.backward()\n",
        "\n",
        "            # Updates the parameters based on current gradients and update rule;\n",
        "            # in this case, defined by SGD()\n",
        "            optimizer.step()\n",
        "\n",
        "            # Print our loss\n",
        "            running_loss += loss.item()\n",
        "            if i % 1000 == 999:    # print every 1000 mini-batches\n",
        "                print('Epoch / Batch [%d / %d] - Loss: %.3f' %\n",
        "                      (epoch + 1, i + 1, running_loss / 1000))\n",
        "                running_loss = 0.0"
      ]
    },
    {
      "cell_type": "markdown",
      "metadata": {
        "id": "PmuhdKhhBZnX"
      },
      "source": [
        "Now to train it"
      ]
    },
    {
      "cell_type": "code",
      "execution_count": 96,
      "metadata": {
        "colab": {
          "base_uri": "https://localhost:8080/"
        },
        "id": "EZ6mahJI-fBt",
        "outputId": "3a87b823-4b21-445b-fae5-991943564db9"
      },
      "outputs": [
        {
          "name": "stdout",
          "output_type": "stream",
          "text": [
            "Epoch / Batch [1 / 1000] - Loss: 0.617\n",
            "Epoch / Batch [1 / 2000] - Loss: 0.385\n",
            "Epoch / Batch [1 / 3000] - Loss: 0.374\n",
            "Epoch / Batch [2 / 1000] - Loss: 0.335\n",
            "Epoch / Batch [2 / 2000] - Loss: 0.320\n",
            "Epoch / Batch [2 / 3000] - Loss: 0.324\n",
            "Epoch / Batch [3 / 1000] - Loss: 0.311\n",
            "Epoch / Batch [3 / 2000] - Loss: 0.308\n",
            "Epoch / Batch [3 / 3000] - Loss: 0.300\n",
            "Epoch / Batch [4 / 1000] - Loss: 0.302\n",
            "Epoch / Batch [4 / 2000] - Loss: 0.309\n",
            "Epoch / Batch [4 / 3000] - Loss: 0.288\n",
            "Epoch / Batch [5 / 1000] - Loss: 0.291\n",
            "Epoch / Batch [5 / 2000] - Loss: 0.297\n",
            "Epoch / Batch [5 / 3000] - Loss: 0.288\n",
            "Epoch / Batch [6 / 1000] - Loss: 0.285\n",
            "Epoch / Batch [6 / 2000] - Loss: 0.296\n",
            "Epoch / Batch [6 / 3000] - Loss: 0.283\n"
          ]
        }
      ],
      "source": [
        "# train_model_epochs(num_epochs)\n",
        "\n",
        "cpu_train_time = timeit.timeit(\n",
        "    \"train_model_epochs(num_epochs)\",\n",
        "    setup=\"num_epochs=6\",\n",
        "    number=1,\n",
        "    globals=globals(),\n",
        ")"
      ]
    },
    {
      "cell_type": "code",
      "execution_count": 97,
      "metadata": {
        "colab": {
          "base_uri": "https://localhost:8080/"
        },
        "id": "eDCbvkP0Bcut",
        "outputId": "c50d79a5-8af7-49ce-cd1d-60efd9efbc83"
      },
      "outputs": [
        {
          "data": {
            "text/plain": [
              "120.2567672289997"
            ]
          },
          "execution_count": 97,
          "metadata": {},
          "output_type": "execute_result"
        }
      ],
      "source": [
        "cpu_train_time"
      ]
    },
    {
      "cell_type": "markdown",
      "metadata": {
        "id": "jbLnv7HqCX5a"
      },
      "source": [
        "How does the classifier perform on the test set?"
      ]
    },
    {
      "cell_type": "code",
      "execution_count": 98,
      "metadata": {
        "colab": {
          "base_uri": "https://localhost:8080/"
        },
        "id": "BlvATfztCWL9",
        "outputId": "ae2cf574-4601-415d-9e11-cc336ea3b0ca"
      },
      "outputs": [
        {
          "name": "stdout",
          "output_type": "stream",
          "text": [
            "correct: 9165\n",
            "total: 10000\n",
            "Accuracy of the network on the test images: 91 %\n"
          ]
        }
      ],
      "source": [
        "correct = 0\n",
        "total = 0\n",
        "\n",
        "with torch.no_grad():\n",
        "    # Iterate over the test set\n",
        "    for data in test_loader:\n",
        "        images, labels = data\n",
        "\n",
        "        outputs = model(images)\n",
        "\n",
        "        # torch.max is an argmax operation\n",
        "        _, predicted = torch.max(outputs.data, 1)\n",
        "\n",
        "        total += labels.size(0)\n",
        "        correct += (predicted == labels).sum().item()\n",
        "print(\"correct: %d\" % correct)\n",
        "print(\"total: %d\" % total)\n",
        "print('Accuracy of the network on the test images: %d %%' % (100 * correct / total))"
      ]
    },
    {
      "cell_type": "code",
      "execution_count": 99,
      "metadata": {
        "colab": {
          "base_uri": "https://localhost:8080/"
        },
        "id": "-O20keVCCZzK",
        "outputId": "1b459dcc-1e03-4509-8566-e0754aa7c2be"
      },
      "outputs": [
        {
          "data": {
            "text/plain": [
              "tensor([1, 2, 3, 4, 5, 6, 7, 8, 9, 0, 1, 2, 3, 4, 5, 6])"
            ]
          },
          "execution_count": 99,
          "metadata": {},
          "output_type": "execute_result"
        }
      ],
      "source": [
        "labels"
      ]
    },
    {
      "cell_type": "code",
      "execution_count": 100,
      "metadata": {
        "colab": {
          "base_uri": "https://localhost:8080/"
        },
        "id": "8rwcQz_kCeWX",
        "outputId": "526ddb36-ff40-4bb9-96c0-64700ca5592f"
      },
      "outputs": [
        {
          "data": {
            "text/plain": [
              "tensor([1, 2, 8, 4, 5, 6, 7, 8, 9, 0, 1, 2, 3, 4, 5, 6])"
            ]
          },
          "execution_count": 100,
          "metadata": {},
          "output_type": "execute_result"
        }
      ],
      "source": [
        "predicted"
      ]
    },
    {
      "cell_type": "markdown",
      "metadata": {
        "id": "_deT3-RnCmiS"
      },
      "source": [
        "You can save and reload models. Torch models are checkpoint files.\n",
        "\n",
        "https://pytorch.org/tutorials/beginner/saving_loading_models.html"
      ]
    },
    {
      "cell_type": "code",
      "execution_count": 101,
      "metadata": {
        "id": "8Wq75I6JCfbP"
      },
      "outputs": [],
      "source": [
        "torch.save(model, './my_mnist_model.pt')"
      ]
    },
    {
      "cell_type": "markdown",
      "metadata": {
        "id": "nUM5tQ7PCpWp"
      },
      "source": [
        "Accuracy and confusion matrix."
      ]
    },
    {
      "cell_type": "code",
      "execution_count": 103,
      "metadata": {
        "id": "v4KKii_8CoFU"
      },
      "outputs": [],
      "source": [
        "cm = confusion_matrix(labels, predicted)"
      ]
    },
    {
      "cell_type": "code",
      "execution_count": 104,
      "metadata": {
        "colab": {
          "base_uri": "https://localhost:8080/"
        },
        "id": "dCuSbpQiCuqW",
        "outputId": "d115b627-626b-4cb3-d127-7f29d3c8d805"
      },
      "outputs": [
        {
          "data": {
            "text/plain": [
              "array([[1, 0, 0, 0, 0, 0, 0, 0, 0, 0],\n",
              "       [0, 2, 0, 0, 0, 0, 0, 0, 0, 0],\n",
              "       [0, 0, 2, 0, 0, 0, 0, 0, 0, 0],\n",
              "       [0, 0, 0, 1, 0, 0, 0, 0, 1, 0],\n",
              "       [0, 0, 0, 0, 2, 0, 0, 0, 0, 0],\n",
              "       [0, 0, 0, 0, 0, 2, 0, 0, 0, 0],\n",
              "       [0, 0, 0, 0, 0, 0, 2, 0, 0, 0],\n",
              "       [0, 0, 0, 0, 0, 0, 0, 1, 0, 0],\n",
              "       [0, 0, 0, 0, 0, 0, 0, 0, 1, 0],\n",
              "       [0, 0, 0, 0, 0, 0, 0, 0, 0, 1]])"
            ]
          },
          "execution_count": 104,
          "metadata": {},
          "output_type": "execute_result"
        }
      ],
      "source": [
        "cm"
      ]
    },
    {
      "cell_type": "markdown",
      "metadata": {
        "id": "T_l-nRXUCy9G"
      },
      "source": [
        "Let's make it easy on the eyes."
      ]
    },
    {
      "cell_type": "code",
      "execution_count": 105,
      "metadata": {
        "id": "92XNyZptCv5c"
      },
      "outputs": [],
      "source": [
        "import itertools\n",
        "\n",
        "def plot_confusion_matrix(cm,\n",
        "                          classes,\n",
        "                          normalize=False,\n",
        "                          title='Confusion matrix',\n",
        "                          cmap=plt.cm.Blues):\n",
        "    \"\"\"\n",
        "    This function prints and plots the confusion matrix very prettily.\n",
        "    Normalization can be applied by setting `normalize=True`.\n",
        "    \"\"\"\n",
        "    if normalize:\n",
        "        cm = cm.astype('float') / cm.sum(axis=1)[:, np.newaxis]\n",
        "        print(\"Normalized confusion matrix\")\n",
        "    else:\n",
        "        print('Confusion matrix, without normalization')\n",
        "\n",
        "    plt.imshow(cm, interpolation='nearest', cmap=cmap)\n",
        "    plt.title(title)\n",
        "\n",
        "    # Specify the tick marks and axis text\n",
        "    tick_marks = np.arange(len(classes))\n",
        "    plt.xticks(tick_marks, classes, rotation=90)\n",
        "    plt.yticks(tick_marks, classes)\n",
        "\n",
        "    # The data formatting\n",
        "    fmt = '.2f' if normalize else 'd'\n",
        "    thresh = cm.max() / 2.\n",
        "\n",
        "    # Print the text of the matrix, adjusting text colour for display\n",
        "    for i, j in itertools.product(range(cm.shape[0]), range(cm.shape[1])):\n",
        "        plt.text(j, i, format(cm[i, j], fmt),\n",
        "                 horizontalalignment=\"center\",\n",
        "                 color=\"white\" if cm[i, j] > thresh else \"black\")\n",
        "\n",
        "    plt.ylabel('True label')\n",
        "    plt.xlabel('Predicted label')\n",
        "    plt.tight_layout()\n",
        "    plt.show()"
      ]
    },
    {
      "cell_type": "code",
      "execution_count": 106,
      "metadata": {
        "colab": {
          "base_uri": "https://localhost:8080/",
          "height": 504
        },
        "id": "0p5MXjP2CxFs",
        "outputId": "193765e1-782e-4da3-e901-0308e49aeefa"
      },
      "outputs": [
        {
          "name": "stdout",
          "output_type": "stream",
          "text": [
            "Confusion matrix, without normalization\n"
          ]
        },
        {
          "data": {
            "image/png": "[encoded data removed]",
            "text/plain": [
              "<Figure size 640x480 with 1 Axes>"
            ]
          },
          "metadata": {},
          "output_type": "display_data"
        }
      ],
      "source": [
        "plot_confusion_matrix(cm, classes)"
      ]
    },
    {
      "cell_type": "markdown",
      "metadata": {
        "id": "ao0cJtsnDmvA"
      },
      "source": [
        "Exercise: You have been provided with the new data for a dataset called [FashionMNIST](https://github.com/zalandoresearch/fashion-mnist)\n",
        "\n",
        "Try to train a model on it!\n",
        "\n",
        "Note: The classes have names this time"
      ]
    },
    {
      "cell_type": "code",
      "execution_count": null,
      "metadata": {
        "id": "kKrSbXYuC2CE"
      },
      "outputs": [],
      "source": [
        "# Data loading\n",
        "\n",
        "transform = transforms.Compose([\n",
        "    transforms.ToTensor(),\n",
        "    transforms.Normalize((0.5,), (0.5,))\n",
        "])\n",
        "\n",
        "train_set = torchvision.datasets.FashionMNIST(\n",
        "    root='./data',\n",
        "    train=True,\n",
        "    download=True,\n",
        "    transform=transform\n",
        ")\n",
        "\n",
        "test_set = torchvision.datasets.FashionMNIST(\n",
        "    root='./data',\n",
        "    train=False,\n",
        "    download=True,\n",
        "    transform=transform\n",
        ")\n",
        "\n",
        "train_loader = torch.utils.data.DataLoader(\n",
        "    train_set,\n",
        "    batch_size=16,\n",
        "    shuffle=True,\n",
        "    num_workers=2\n",
        ")\n",
        "\n",
        "\n",
        "test_loader = torch.utils.data.DataLoader(\n",
        "    test_set,\n",
        "    batch_size=24,\n",
        "    shuffle=False,\n",
        "    num_workers=2\n",
        ")\n",
        "\n",
        "classes = ('T-shirt/top', 'Trouser', 'Pullover', 'Dress', 'Coat',\n",
        "           'Sandal', 'Shirt', 'Sneaker', 'Bag', 'Ankle boot')"
      ]
    },
    {
      "cell_type": "code",
      "execution_count": 112,
      "metadata": {
        "id": "KxROvti_FBsQ"
      },
      "outputs": [],
      "source": [
        "# Define your model w Init and Forward function"
      ]
    },
    {
      "cell_type": "code",
      "execution_count": 109,
      "metadata": {
        "id": "f5adpjEeFLf5"
      },
      "outputs": [],
      "source": [
        "# Define your loss function and optimizer"
      ]
    },
    {
      "cell_type": "code",
      "execution_count": 110,
      "metadata": {
        "id": "EU0LWVBiFPwT"
      },
      "outputs": [],
      "source": [
        "# Perform the training loop"
      ]
    },
    {
      "cell_type": "code",
      "execution_count": 111,
      "metadata": {
        "id": "GMZZ4dRDFUPr"
      },
      "outputs": [],
      "source": [
        "correct = 0\n",
        "total = 0\n",
        "\n",
        "with torch.no_grad():\n",
        "    # Iterate over the test set\n",
        "    for data in test_loader:\n",
        "        images, labels = data\n",
        "\n",
        "        outputs = model(images)\n",
        "\n",
        "        # torch.max is an argmax operation\n",
        "        _, predicted = torch.max(outputs.data, 1)\n",
        "\n",
        "        total += labels.size(0)\n",
        "        correct += (predicted == labels).sum().item()\n",
        "print(\"correct: %d\" % correct)\n",
        "print(\"total: %d\" % total)\n",
        "print('Accuracy of the network on the test images: %d %%' % (100 * correct / total))\n",
        "\n",
        "cm = confusion_matrix(labels, predicted)\n",
        "plot_confusion_matrix(cm, classes)"
      ]
    },
    {
      "cell_type": "markdown",
      "metadata": {
        "id": "0sbrAWHgHlop"
      },
      "source": [
        "Solution:"
      ]
    },
    {
      "cell_type": "code",
      "execution_count": null,
      "metadata": {
        "id": "zOC6d3F1FmV6",
        "tags": [
          "hide-input"
        ]
      },
      "outputs": [],
      "source": [
        "model = LinearClassifier()\n",
        "\n",
        "criterion = nn.CrossEntropyLoss()\n",
        "optimizer = torch.optim.SGD(model.parameters(), lr=0.001, momentum=0.9)\n",
        "\n",
        "train_model_epochs(4)"
      ]
    },
    {
      "cell_type": "markdown",
      "metadata": {},
      "source": [
        "Challenge Exercise: Try classification on [EMNIST](https://docs.pytorch.org/vision/stable/generated/torchvision.datasets.EMNIST.html#torchvision.datasets.EMNIST)"
      ]
    },
    {
      "cell_type": "code",
      "execution_count": null,
      "metadata": {
        "id": "iKqKxl3xG1XM"
      },
      "outputs": [],
      "source": [
        "# Data loading\n",
        "\n",
        "transform = transforms.Compose([\n",
        "    transforms.ToTensor(),\n",
        "    transforms.Normalize((0.5,), (0.5,))\n",
        "])\n",
        "\n",
        "train_set = torchvision.datasets.EMNIST(\n",
        "    root='./data',\n",
        "    split='byclass',\n",
        "    train=True,\n",
        "    download=True,\n",
        "    transform=transform\n",
        ")\n",
        "\n",
        "test_set = torchvision.datasets.EMNIST(\n",
        "    root='./data',\n",
        "    split='byclass',\n",
        "    train=False,\n",
        "    download=True,\n",
        "    transform=transform\n",
        ")\n",
        "\n",
        "train_loader = torch.utils.data.DataLoader(\n",
        "    train_set,\n",
        "    batch_size=64,\n",
        "    shuffle=True,\n",
        "    num_workers=2\n",
        ")\n",
        "\n",
        "\n",
        "test_loader = torch.utils.data.DataLoader(\n",
        "    test_set,\n",
        "    batch_size=128,\n",
        "    shuffle=False,\n",
        "    num_workers=2\n",
        ")"
      ]
    }
  ],
  "metadata": {
    "colab": {
      "provenance": []
    },
    "kernelspec": {
      "display_name": "book",
      "language": "python",
      "name": "python3"
    },
    "language_info": {
      "name": "python",
      "version": "3.13.1"
    }
  },
  "nbformat": 4,
  "nbformat_minor": 0
}
